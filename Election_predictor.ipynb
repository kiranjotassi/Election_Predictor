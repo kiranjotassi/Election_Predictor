{
 "cells": [
  {
   "cell_type": "code",
   "execution_count": 1,
   "metadata": {},
   "outputs": [],
   "source": [
    "#required python libraries and toolkits\n",
    "import pandas as pd\n",
    "import matplotlib.pyplot as plt\n",
    "%matplotlib inline\n",
    "import random"
   ]
  },
  {
   "cell_type": "code",
   "execution_count": 2,
   "metadata": {},
   "outputs": [],
   "source": [
    "df_President=pd.read_csv('C:\\\\Users\\kiran\\Downloads\\MATH37198_Assignment2\\presidential_poll_averages_2020.csv')\n",
    "df_Votes=pd.read_csv('C:\\\\Users\\kiran\\Downloads\\MATH37198_Assignment2\\Electoral_Votes_by_State.csv')\n",
    "#Import dataframes into python"
   ]
  },
  {
   "cell_type": "code",
   "execution_count": 3,
   "metadata": {},
   "outputs": [
    {
     "name": "stdout",
     "output_type": "stream",
     "text": [
      "Chance of Donald Trump winning in Alabama  61.3\n",
      "Chnace of Joe Biden winning in Alabama =  35.25\n"
     ]
    }
   ],
   "source": [
    "#Question 1a\n",
    "df_President[1:10]\n",
    "trials = 10000\n",
    "error = random.uniform(0.0, 0.1)\n",
    "\n",
    "\n",
    "dfmini = df_President[['candidate_name', 'pct_estimate', 'state']]\n",
    "dfmini2 = dfmini[dfmini['state']=='Alabama']\n",
    "dfmini2[1:10]\n",
    "for i in range (trials):\n",
    "    #mean for Joe Biden in ALabama\n",
    "    meanJB = dfmini2[dfmini2['candidate_name'] == 'Joseph R. Biden Jr.']['pct_estimate'].mean()\n",
    "    \n",
    "    #mean for Donald Trump in Alabama\n",
    "    meanDT = dfmini2[dfmini2['candidate_name'] == 'Donald Trump']['pct_estimate'].mean()\n",
    "\n",
    "\n",
    "meanJB_estimate = meanJB * error\n",
    "meanJB = meanJB - meanJB_estimate\n",
    "meanDT = meanDT + meanJB_estimate\n",
    "meanJB = round(meanJB, 2)\n",
    "meanDT = round(meanDT, 2)\n",
    "    \n",
    "print(\"Chance of Donald Trump winning in Alabama \", meanDT)\n",
    "print(\"Chnace of Joe Biden winning in Alabama = \", meanJB)"
   ]
  },
  {
   "cell_type": "code",
   "execution_count": 4,
   "metadata": {},
   "outputs": [
    {
     "name": "stdout",
     "output_type": "stream",
     "text": [
      "Chace of Donald Trump winning in Alabama  41.7\n",
      "Chance of Joe Biden winning in Alabama =  50.14\n"
     ]
    }
   ],
   "source": [
    "#Question 1b\n",
    "df_President[1:10]\n",
    "trials = 10000\n",
    "error = random.uniform(0.0, 0.04)\n",
    "\n",
    "\n",
    "dfmini = df_President[['candidate_name', 'pct_estimate', 'state']]\n",
    "dfmini2 = dfmini[dfmini['state']=='Michigan']\n",
    "dfmini2[1:10]\n",
    "for i in range (trials):\n",
    "    #mean for Joe Biden in ALabama\n",
    "    meanJB = dfmini2[dfmini2['candidate_name'] == 'Joseph R. Biden Jr.']['pct_estimate'].mean()\n",
    "    \n",
    "    #mean for Donald Trump in Alabama\n",
    "    meanDT = dfmini2[dfmini2['candidate_name'] == 'Donald Trump']['pct_estimate'].mean()\n",
    "\n",
    "\n",
    "meanDT_estimate = meanDT * error\n",
    "meanJB = meanJB + meanDT_estimate\n",
    "meanDT = meanDT - meanDT_estimate\n",
    "meanJB = round(meanJB, 2)\n",
    "meanDT = round(meanDT, 2)\n",
    "    \n",
    "print(\"Chace of Donald Trump winning in Alabama \", meanDT)\n",
    "print(\"Chance of Joe Biden winning in Alabama = \", meanJB)"
   ]
  },
  {
   "cell_type": "code",
   "execution_count": 5,
   "metadata": {},
   "outputs": [
    {
     "name": "stdout",
     "output_type": "stream",
     "text": [
      "Chace of Donald Trump winning in Alabama  39.81\n",
      "Chance of Joe Biden winning in Alabama =  53.26\n"
     ]
    }
   ],
   "source": [
    "#Question 1c\n",
    "df_President[1:10]\n",
    "trials = 10000\n",
    "error = random.uniform(0.0, 0.2)\n",
    "\n",
    "\n",
    "dfmini = df_President[['candidate_name', 'pct_estimate', 'state']]\n",
    "dfmini2 = dfmini[dfmini['state']=='Georgia']\n",
    "dfmini2[1:10]\n",
    "for i in range (trials):\n",
    "    #mean for Joe Biden in ALabama\n",
    "    meanJB = dfmini2[dfmini2['candidate_name'] == 'Joseph R. Biden Jr.']['pct_estimate'].mean()\n",
    "    \n",
    "    #mean for Donald Trump in Alabama\n",
    "    meanDT = dfmini2[dfmini2['candidate_name'] == 'Donald Trump']['pct_estimate'].mean()\n",
    "\n",
    "meanDT_estimate = meanDT * error\n",
    "meanJB = meanJB + meanDT_estimate\n",
    "meanDT = meanDT - meanDT_estimate\n",
    "meanJB = round(meanJB, 2)\n",
    "meanDT = round(meanDT, 2)\n",
    "\n",
    "print(\"Chace of Donald Trump winning in Alabama \", meanDT)\n",
    "print(\"Chance of Joe Biden winning in Alabama = \", meanJB)"
   ]
  },
  {
   "cell_type": "code",
   "execution_count": 6,
   "metadata": {},
   "outputs": [
    {
     "name": "stdout",
     "output_type": "stream",
     "text": [
      "The total number of states and districts is  state    51\n",
      "dtype: int32  and the total number of electoral votes is  538\n",
      "The average for Donald Trump in all 51 states is  45.57\n",
      "The average for Joe Biden in all 51 states is  47.47\n",
      "It is more likely that the next US president will be Joe Biden, as his average pct_estimate is larger than that of Donald Trump\n",
      "Total for Joe Biden with error is :  47.89\n",
      "Total for Donald Trump with error is :  45.15\n"
     ]
    }
   ],
   "source": [
    "#Question 2\n",
    "df_Votes [1:10]\n",
    "\n",
    "\n",
    "states = df_Votes[['state']].count()\n",
    "states = states.astype(int)\n",
    "votes = df_Votes['electoral_votes'].sum()\n",
    "\n",
    "totalVotes = 538\n",
    "\n",
    "print(\"The total number of states and districts is \", states , \" and the total number of electoral votes is \", votes)\n",
    "\n",
    "totalDT = df_President[df_President['candidate_name'] == 'Donald Trump']['pct_estimate'].mean()\n",
    "totalDT = round(totalDT, 2)\n",
    "print(\"The average for Donald Trump in all 51 states is \", totalDT)\n",
    "totalJB = df_President[df_President['candidate_name'] == 'Joseph R. Biden Jr.']['pct_estimate'].mean()\n",
    "totalJB = round(totalJB, 2)\n",
    "print(\"The average for Joe Biden in all 51 states is \",totalJB)\n",
    "\n",
    "print(\"It is more likely that the next US president will be Joe Biden,\", \n",
    "      \"as his average pct_estimate is larger than that of Donald Trump\")\n",
    "\n",
    "#Question 3\n",
    "trials = 1000\n",
    "\n",
    "\n",
    "for i in range (trials):\n",
    "    error = random.uniform(0.0, 0.1)\n",
    "    totalJBEstimate = totalJB * error\n",
    "totalJB =  totalJB + totalJBEstimate\n",
    "totalDT = totalDT -totalJBEstimate\n",
    "totalJB = round(totalJB, 2)\n",
    "totalDT = round(totalDT, 2)\n",
    "    \n",
    "print(\"Total for Joe Biden with error is : \",totalJB)\n",
    "print(\"Total for Donald Trump with error is : \",totalDT)"
   ]
  },
  {
   "cell_type": "code",
   "execution_count": 11,
   "metadata": {},
   "outputs": [
    {
     "data": {
      "text/plain": [
       "(array([17., 11.,  4.,  2.,  2.,  0.,  1.,  0.,  0.,  0.,  1.]),\n",
       " array([ 5, 10, 15, 20, 25, 30, 35, 40, 45, 50, 55, 60]),\n",
       " <a list of 11 Patch objects>)"
      ]
     },
     "execution_count": 11,
     "metadata": {},
     "output_type": "execute_result"
    },
    {
     "data": {
      "image/png": "[encoded data removed]",
      "text/plain": [
       "<Figure size 432x288 with 1 Axes>"
      ]
     },
     "metadata": {
      "needs_background": "light"
     },
     "output_type": "display_data"
    }
   ],
   "source": [
    "#Question 3 Graph\n",
    "plt.hist(df_Votes['electoral_votes'], bins=[5,10,15,20,25,30,35,40,45,50,55,60])\n"
   ]
  },
  {
   "cell_type": "code",
   "execution_count": null,
   "metadata": {},
   "outputs": [],
   "source": []
  },
  {
   "cell_type": "code",
   "execution_count": null,
   "metadata": {},
   "outputs": [],
   "source": []
  }
 ],
 "metadata": {
  "kernelspec": {
   "display_name": "Python 3",
   "language": "python",
   "name": "python3"
  },
  "language_info": {
   "codemirror_mode": {
    "name": "ipython",
    "version": 3
   },
   "file_extension": ".py",
   "mimetype": "text/x-python",
   "name": "python",
   "nbconvert_exporter": "python",
   "pygments_lexer": "ipython3",
   "version": "3.6.13"
  }
 },
 "nbformat": 4,
 "nbformat_minor": 4
}
